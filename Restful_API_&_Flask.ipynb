{
  "nbformat": 4,
  "nbformat_minor": 0,
  "metadata": {
    "colab": {
      "provenance": []
    },
    "kernelspec": {
      "name": "python3",
      "display_name": "Python 3"
    },
    "language_info": {
      "name": "python"
    }
  },
  "cells": [
    {
      "cell_type": "markdown",
      "source": [
        "# Restful API & Flask"
      ],
      "metadata": {
        "id": "peGW4OOgVly8"
      }
    },
    {
      "cell_type": "markdown",
      "source": [
        "1. What is a RESTful API?"
      ],
      "metadata": {
        "id": "NbBmaLaNVnrV"
      }
    },
    {
      "cell_type": "markdown",
      "source": [
        "* A RESTful API (Representational State Transfer API) is a way for different software systems to communicate over the internet using standard HTTP methods. It follows a set of architectural principles that make it scalable, stateless, and easy to use.\n",
        "\n",
        "# Key Concepts of RESTful API:\n",
        "1. Resources:\n",
        "\n",
        "* Everything in REST is considered a resource (e.g., a user, an order, a product).\n",
        "\n",
        "* Each resource is identified by a URL (e.g., https://api.example.com/users/123).\n",
        "\n",
        "2. HTTP Methods:\n",
        "* REST uses standard HTTP methods to perform actions on resources:\n",
        "\n",
        "1. GET – Retrieve data\n",
        "\n",
        "2. POST – Create a new resource\n",
        "\n",
        "3. PUT – Update an existing resource (full update)\n",
        "\n",
        "4. PATCH – Update part of a resource (partial update)\n",
        "\n",
        "5. DELETE – Remove a resource\n",
        "\n",
        "3. Stateless:\n",
        "\n",
        "* Each API request is independent. The server doesn’t store client context between requests.\n",
        "\n",
        "* All necessary information must be sent in the request.\n",
        "\n",
        "4. JSON or XML:\n",
        "\n",
        "* Most RESTful APIs use JSON to format data, though XML is sometimes supported.\n",
        "\n",
        "5. Uniform Interface:\n",
        "\n",
        "* REST APIs are designed with a consistent structure, making them easier to understand and use.\n",
        "\n",
        "6. Client-Server Architecture:\n",
        "\n",
        "* The client (frontend) and the server (backend) are separated, promoting modularity.\n",
        "\n",
        "# Example:\n",
        "* Suppose you have a RESTful API for managing books.\n",
        "\n",
        "* GET /books – List all books\n",
        "\n",
        "* GET /books/1 – Get details of book with ID 1\n",
        "\n",
        "* POST /books – Add a new book\n",
        "\n",
        "* PUT /books/1 – Replace book with ID 1\n",
        "\n",
        "* DELETE /books/1 – Delete book with ID 1"
      ],
      "metadata": {
        "id": "J24saWGcVvbb"
      }
    },
    {
      "cell_type": "markdown",
      "source": [
        "2. Explain the concept of API specification?"
      ],
      "metadata": {
        "id": "XRMOnFq1Wncb"
      }
    },
    {
      "cell_type": "markdown",
      "source": [
        "* An API specification is a formal, structured document or definition that describes how an API behaves and how developers can interact with it. It acts like a contract between the API provider and consumers, ensuring consistency, clarity, and interoperability.\n",
        "\n",
        "# Key Concepts in an API Specification:\n",
        "1. Endpoints\n",
        "\n",
        "* Define the URLs or routes the API exposes (e.g., /users, /orders/123).\n",
        "\n",
        "2. HTTP Methods\n",
        "\n",
        "* Describe the operations allowed on each endpoint: GET, POST, PUT, DELETE, etc.\n",
        "\n",
        "3. Request Parameters\n",
        "\n",
        "* Inputs required for each endpoint, including:\n",
        "\n",
        "* Path parameters (e.g., /users/{id})\n",
        "\n",
        "* Query parameters (e.g., /search?term=apple)\n",
        "\n",
        "4. Headers\n",
        "\n",
        "* Body content (typically in JSON)\n",
        "\n",
        "5. Responses\n",
        "\n",
        "* Expected output for each endpoint, including:\n",
        "\n",
        "* Status codes (e.g., 200 OK, 404 Not Found)\n",
        "\n",
        "* Response body schema\n",
        "\n",
        "6. Headers\n",
        "\n",
        "* Data Models / Schemas\n",
        "\n",
        "* Definitions of the data structures used (e.g., what fields a User object has).\n",
        "\n",
        "* Authentication/Authorization Requirements\n",
        "\n",
        "* How users authenticate (e.g., API keys, OAuth tokens).\n",
        "\n"
      ],
      "metadata": {
        "id": "8PdU97eyWtYD"
      }
    },
    {
      "cell_type": "markdown",
      "source": [
        "3.What is Flask, and why is it popular for building APIs?"
      ],
      "metadata": {
        "id": "0VP0FjT-XVls"
      }
    },
    {
      "cell_type": "markdown",
      "source": [
        "* Flask is a microframework: it provides the core tools for web development without enforcing a specific structure or including unnecessary features.\n",
        "\n",
        "* It’s built on Werkzeug (a WSGI utility library) and Jinja2 (a templating engine).\n",
        "\n",
        "* You only include what you need (e.g., database integration, authentication) using extensions.\n",
        "\n",
        "# Why Flask Is Popular for APIs\n",
        "1. Minimal Boilerplate\n",
        "\n",
        "* You can create a working API with just a few lines of code.\n",
        "\n",
        "2. Pythonic and Intuitive\n",
        "\n",
        "* Easy for Python developers to learn and use.\n",
        "\n",
        "3. Highly Customizable\n",
        "\n",
        "* You’re not locked into any particular architecture or tools.\n",
        "\n",
        "4. Great for Prototyping and MVPs\n",
        "\n",
        "* Fast to build and iterate.\n",
        "\n",
        "5. Strong Ecosystem\n",
        "\n",
        "* Many useful extensions like:\n",
        "\n",
        "* Flask-RESTful – for structured REST APIs\n",
        "\n",
        "* Flask-JWT – for authentication\n",
        "\n",
        "* Flask-SQLAlchemy – for database ORM\n",
        "\n",
        "6. Good for Small to Medium Projects\n",
        "\n",
        "* Scales well up to a point; beyond that, more structured frameworks like Django or FastAPI might be better.\n",
        "\n"
      ],
      "metadata": {
        "id": "nqvT3JO6XdHR"
      }
    },
    {
      "cell_type": "markdown",
      "source": [
        "4.What is routing in Flask?"
      ],
      "metadata": {
        "id": "A9D1mMvnYOKp"
      }
    },
    {
      "cell_type": "markdown",
      "source": [
        "* Routing in Flask refers to the process of mapping URLs (or paths) to Python functions. These functions are called view functions, and they define what should happen when a specific URL is accessed—such as returning data or rendering a page.\n",
        "\n",
        "| Feature          | Description                            |\n",
        "| ---------------- | -------------------------------------- |\n",
        "| `@app.route()`   | Binds a function to a URL path         |\n",
        "| Dynamic segments | Use `<variable>` in URL paths          |\n",
        "| HTTP methods     | Specify with `methods=['POST', 'GET']` |\n",
        "| View functions   | Return the response (text, JSON, etc.) |\n"
      ],
      "metadata": {
        "id": "EPfp1uyXYT9-"
      }
    },
    {
      "cell_type": "markdown",
      "source": [
        "5. How do you create a simple Flask application?"
      ],
      "metadata": {
        "id": "eKhQ5CPnYd2C"
      }
    },
    {
      "cell_type": "markdown",
      "source": [
        "# What’s Happening?\n",
        "* Flask(__name__): Creates a Flask app instance.\n",
        "\n",
        "* @app.route('/'): Maps the / URL to the home() function.\n",
        "\n",
        "* return 'Hello, Flask!': Sends this text as the HTTP response.\n",
        "\n",
        "* app.run(debug=True): Starts the development server and enables auto-reloading and debugging."
      ],
      "metadata": {
        "id": "ZqZfvdasYk7e"
      }
    },
    {
      "cell_type": "markdown",
      "source": [
        "6. What are HTTP methods used in RESTful APIs?"
      ],
      "metadata": {
        "id": "Unbc2A9fYx4X"
      }
    },
    {
      "cell_type": "markdown",
      "source": [
        "* In RESTful APIs, HTTP methods define the type of operation you want to perform on a resource (like users, products, posts, etc.). These methods align with CRUD operations: Create, Read, Update, Delete.\n",
        "\n",
        "| Method   | Description                       | CRUD Operation | Example Usage                       |\n",
        "| -------- | --------------------------------- | -------------- | ----------------------------------- |\n",
        "| `GET`    | Retrieve data from the server     | **Read**       | Get a list of users: `GET /users`   |\n",
        "| `POST`   | Submit new data to the server     | **Create**     | Create a new user: `POST /users`    |\n",
        "| `PUT`    | Replace an existing resource      | **Update**     | Replace user data: `PUT /users/1`   |\n",
        "| `PATCH`  | Update part of a resource         | **Update**     | Update user email: `PATCH /users/1` |\n",
        "| `DELETE` | Remove a resource from the server | **Delete**     | Delete a user: `DELETE /users/1`    |\n"
      ],
      "metadata": {
        "id": "YqQ-qFFBY4Fi"
      }
    },
    {
      "cell_type": "markdown",
      "source": [
        "7.  What is the purpose of the @app.route() decorator in Flask?"
      ],
      "metadata": {
        "id": "LDPm3Ua2ZHDF"
      }
    },
    {
      "cell_type": "markdown",
      "source": [
        "* The @app.route() decorator in Flask is used to bind a URL path to a Python function, turning that function into a view function (or route handler). It defines which URL triggers which code when accessed via a web browser or API request.\n",
        "\n",
        "#Purpose of @app.route()\n",
        "* It registers a route with the Flask application.\n",
        "\n",
        "* It tells Flask: “When someone visits this URL, run this function.”\n",
        "\n",
        "* It supports optional parameters and HTTP methods.\n",
        "\n",
        "| Feature       | Description                                |\n",
        "| ------------- | ------------------------------------------ |\n",
        "| URL mapping   | Connects a specific URL to a function      |\n",
        "| Dynamic paths | Supports variables in the URL              |\n",
        "| HTTP methods  | Handles `GET`, `POST`, etc. via parameters |\n",
        "| Readability   | Makes route definitions clean and readable |\n"
      ],
      "metadata": {
        "id": "xy0uAF06ZI7s"
      }
    },
    {
      "cell_type": "markdown",
      "source": [
        "8. What is the difference between GET and POST HTTP methods?"
      ],
      "metadata": {
        "id": "H3zbXHy_ZXCt"
      }
    },
    {
      "cell_type": "markdown",
      "source": [
        "| Feature                | `GET`                              | `POST`                                      |\n",
        "| ---------------------- | ---------------------------------- | ------------------------------------------- |\n",
        "| **Purpose**            | Retrieve data                      | Submit or send data to create a resource    |\n",
        "| **Data Location**      | Sent in the **URL** (query string) | Sent in the **request body**                |\n",
        "| **Visibility**         | Visible in URL (e.g., `?q=test`)   | Hidden from URL                             |\n",
        "| **Caching**            | Can be cached                      | Not usually cached                          |\n",
        "| **Idempotent**         | ✅ Yes – Safe to repeat             | ❌ No – May create multiple entries          |\n",
        "| **Use Case**           | Fetching info (e.g., search, view) | Creating a new resource (e.g., new user)    |\n",
        "| **Request Size Limit** | Limited (due to URL length)        | Can send large payloads (e.g., JSON, files) |\n"
      ],
      "metadata": {
        "id": "g3xxF_loZft4"
      }
    },
    {
      "cell_type": "markdown",
      "source": [
        "9. How do you handle errors in Flask APIs?"
      ],
      "metadata": {
        "id": "Pou4ZkdtZkIf"
      }
    },
    {
      "cell_type": "markdown",
      "source": [
        "* In Flask APIs, handling errors means catching issues like missing data, invalid input, or failed operations—and responding with clear, meaningful messages and proper HTTP status codes.\n",
        "\n",
        "| Error Type       | How to Handle                                   |\n",
        "| ---------------- | ----------------------------------------------- |\n",
        "| 400 Bad Request  | Check for missing/invalid input manually        |\n",
        "| 404 Not Found    | Use `abort(404)` or `@app.errorhandler(404)`    |\n",
        "| 500 Server Error | Catch with `@app.errorhandler(500)`             |\n",
        "| Validation       | Use manual checks or libraries like Marshmallow |\n"
      ],
      "metadata": {
        "id": "LyuWWpBIZp5Q"
      }
    },
    {
      "cell_type": "markdown",
      "source": [
        "10. How do you connect Flask to a SQL database?"
      ],
      "metadata": {
        "id": "r0SidW1aZ1IG"
      }
    },
    {
      "cell_type": "markdown",
      "source": [
        "* To connect Flask to a SQL database, you typically use an ORM (Object-Relational Mapper) like SQLAlchemy, or Flask’s integration with it via Flask-SQLAlchemy. This simplifies querying and managing your database using Python objects instead of raw SQL.\n",
        "\n",
        "| Component          | Role                                        |\n",
        "| ------------------ | ------------------------------------------- |\n",
        "| `Flask`            | Web framework                               |\n",
        "| `Flask-SQLAlchemy` | ORM layer for connecting Flask with SQL DBs |\n",
        "| `db.Model`         | Class that maps to a table in the database  |\n",
        "| `db.session`       | Used to add, update, or delete records      |\n"
      ],
      "metadata": {
        "id": "rNt7Fcn7Z8Vs"
      }
    },
    {
      "cell_type": "markdown",
      "source": [
        "11. What is the role of Flask-SQLAlchemy?"
      ],
      "metadata": {
        "id": "m5yY-HrLXb79"
      }
    },
    {
      "cell_type": "markdown",
      "source": [
        "#Main Role of Flask-SQLAlchemy\n",
        "* To make it easy to interact with SQL databases from a Flask app by:\n",
        "\n",
        "* Managing database connections\n",
        "\n",
        "* Mapping Python classes to database tables (ORM)\n",
        "\n",
        "* Simplifying queries and data manipulation\n",
        "\n",
        "* Handling migrations (when used with Flask-Migrate)"
      ],
      "metadata": {
        "id": "kNrdFF1CXmb9"
      }
    },
    {
      "cell_type": "markdown",
      "source": [
        "12. What are Flask blueprints, and how are they useful?"
      ],
      "metadata": {
        "id": "0mF-2Lc0Xx_9"
      }
    },
    {
      "cell_type": "markdown",
      "source": [
        "* A Blueprint is like a mini-application within your Flask app. You define routes, error handlers, templates, and static files in a blueprint, then register it with your main app.\n",
        "\n",
        "| Benefit                | Description                                                            |\n",
        "| ---------------------- | ---------------------------------------------------------------------- |\n",
        "| **Modularity**         | Split features (auth, API, admin, etc.) into separate files or folders |\n",
        "| **Reusability**        | Reuse blueprints across multiple apps or projects                      |\n",
        "| **Cleaner Structure**  | Keeps your main app file smaller and easier to read                    |\n",
        "| **Team Collaboration** | Teams can work on different blueprints without touching the core app   |\n"
      ],
      "metadata": {
        "id": "ECne9qt5X3eT"
      }
    },
    {
      "cell_type": "markdown",
      "source": [
        "13. What is the purpose of Flask's request object?"
      ],
      "metadata": {
        "id": "vkV9Q1RTX_G5"
      }
    },
    {
      "cell_type": "markdown",
      "source": [
        "* The request object in Flask is used to access incoming request data from the client (such as a browser or API consumer). It allows your Flask app to read details like form inputs, JSON payloads, query parameters, headers, and cookies from the HTTP request.\n",
        "\n",
        "| Attribute             | Description                               | Example                                 |\n",
        "| --------------------- | ----------------------------------------- | --------------------------------------- |\n",
        "| `request.method`      | HTTP method used (`GET`, `POST`, etc.)    | `'POST'`                                |\n",
        "| `request.args`        | Query string parameters                   | `/search?q=flask` → `request.args['q']` |\n",
        "| `request.form`        | Form data submitted via `POST` or `PUT`   | `request.form['username']`              |\n",
        "| `request.json`        | JSON payload (usually from an API client) | `request.json['email']`                 |\n",
        "| `request.headers`     | Request headers                           | `request.headers['User-Agent']`         |\n",
        "| `request.cookies`     | Cookies sent by the client                | `request.cookies.get('session')`        |\n",
        "| `request.files`       | Uploaded files                            | `request.files['file']`                 |\n",
        "| `request.path`        | Path part of the URL                      | `/profile`                              |\n",
        "| `request.remote_addr` | IP address of the client                  | `'127.0.0.1'`                           |\n"
      ],
      "metadata": {
        "id": "lEkKjgOaYHjV"
      }
    },
    {
      "cell_type": "markdown",
      "source": [
        "14. How do you create a RESTful API endpoint using Flask?"
      ],
      "metadata": {
        "id": "hzYXg6rzYRQq"
      }
    },
    {
      "cell_type": "markdown",
      "source": [
        "* Creating a RESTful API endpoint in Flask involves setting up routes that handle specific HTTP methods (GET, POST, PUT, DELETE) to interact with resources (like users, products, tasks, etc.).\n",
        "\n",
        "| HTTP Method | Endpoint      | Action              |\n",
        "| ----------- | ------------- | ------------------- |\n",
        "| `GET`       | `/users`      | Retrieve all users  |\n",
        "| `GET`       | `/users/<id>` | Retrieve one user   |\n",
        "| `POST`      | `/users`      | Create new user     |\n",
        "| `PUT`       | `/users/<id>` | Update/replace user |\n",
        "| `DELETE`    | `/users/<id>` | Delete user         |\n"
      ],
      "metadata": {
        "id": "hhz2-R1GYX3F"
      }
    },
    {
      "cell_type": "markdown",
      "source": [
        "15. What is the purpose of Flask's jsonify() function?"
      ],
      "metadata": {
        "id": "kYkw0pv7Ygl2"
      }
    },
    {
      "cell_type": "markdown",
      "source": [
        "* The purpose of Flask's jsonify() function is to:\n",
        "\n",
        "🔹 Convert Python data (like dict, list) into a JSON response, and\n",
        "\n",
        "🔹 Automatically set the correct MIME type (application/json) for the HTTP response."
      ],
      "metadata": {
        "id": "pp9x53dCYm_f"
      }
    },
    {
      "cell_type": "markdown",
      "source": [
        "16. Explain Flask’s url_for() function?"
      ],
      "metadata": {
        "id": "JI9u1mp_Yu_x"
      }
    },
    {
      "cell_type": "markdown",
      "source": [
        "* Flask’s url_for() function is used to dynamically build URLs for your Flask app routes based on the route’s function name, rather than hardcoding paths. This makes your code more maintainable, flexible, and less error-prone—especially if route paths change.\n",
        "\n",
        "# Purpose of url_for()\n",
        "✅ Avoid hardcoding URLs\n",
        "\n",
        "✅ Automatically generate URLs that adapt to changes\n",
        "\n",
        "✅ Append query parameters if needed\n",
        "\n"
      ],
      "metadata": {
        "id": "d4qVkw2QY1Dd"
      }
    },
    {
      "cell_type": "markdown",
      "source": [
        "17. How does Flask handle static files (CSS, JavaScript, etc.)?"
      ],
      "metadata": {
        "id": "ELegj-HGY9R8"
      }
    },
    {
      "cell_type": "markdown",
      "source": [
        "* Flask handles static files (like CSS, JavaScript, images) through a dedicated /static folder. When a client requests a file like /static/style.css, Flask automatically serves it from the corresponding file inside your project.\n",
        "\n",
        "| Feature         | Description                                               |\n",
        "| --------------- | --------------------------------------------------------- |\n",
        "| Folder name     | `static/` by default                                      |\n",
        "| Access path     | `url_for('static', filename='...')`                       |\n",
        "| Files it serves | CSS, JS, images, fonts, etc.                              |\n",
        "| Flask behavior  | Automatically serves from `/static/` without extra config |\n"
      ],
      "metadata": {
        "id": "Y9xDWAbNZCuZ"
      }
    },
    {
      "cell_type": "markdown",
      "source": [
        "18. M What is an API specification, and how does it help in building a Flask API?"
      ],
      "metadata": {
        "id": "PKD6VfoOZJeZ"
      }
    },
    {
      "cell_type": "markdown",
      "source": [
        "* An API specification is a detailed, structured description of how an API behaves—what endpoints it exposes, what data it accepts and returns, and what errors it might produce. Think of it as a blueprint for building, consuming, and documenting an API.\n",
        "\n",
        "#Purpose of an API Specification\n",
        "* Defines what the API does and how to interact with it\n",
        "\n",
        "* Provides a contract between backend developers, frontend teams, and third-party clients\n",
        "\n",
        "* Enables automation: testing, documentation, code generation, validation\n",
        "\n",
        "\n",
        "| Specification Tool    | Description                    |\n",
        "| --------------------- | ------------------------------ |\n",
        "| **OpenAPI** (Swagger) | Most widely used for REST APIs |\n",
        "| RAML                  | YAML-based, developer-friendly |\n",
        "| API Blueprint         | Markdown-style, human-readable |\n"
      ],
      "metadata": {
        "id": "yLK118M0ZPiV"
      }
    },
    {
      "cell_type": "markdown",
      "source": [
        "19. What are HTTP status codes, and why are they important in a Flask API?"
      ],
      "metadata": {
        "id": "4_vv6cuVZp8F"
      }
    },
    {
      "cell_type": "markdown",
      "source": [
        "* HTTP status codes are standardized 3-digit codes sent by a server in response to a client's request. They indicate the result of the HTTP request, helping both clients (like browsers or API consumers) and developers understand what happened.\n",
        "\n",
        "In a Flask API, using the correct status codes is essential for clear communication, error handling, and API best practices.\n",
        "\n",
        "| Code                        | Meaning                       | When to Use                                 |\n",
        "| --------------------------- | ----------------------------- | ------------------------------------------- |\n",
        "| `200 OK`                    | Success (default for `GET`)   | Data was returned or updated successfully   |\n",
        "| `201 Created`               | Resource was created          | After a `POST` that creates a new record    |\n",
        "| `204 No Content`            | Success with no body          | After successful `DELETE` or `PUT`          |\n",
        "| `400 Bad Request`           | Invalid input                 | Client sent malformed or missing data       |\n",
        "| `401 Unauthorized`          | Auth required or invalid      | Access requires login/token                 |\n",
        "| `403 Forbidden`             | Authenticated but not allowed | Valid token but insufficient permissions    |\n",
        "| `404 Not Found`             | Resource doesn't exist        | ID doesn't match any data                   |\n",
        "| `409 Conflict`              | Conflict with existing state  | Trying to create a user that already exists |\n",
        "| `500 Internal Server Error` | Unhandled exception           | Something failed server-side                |\n"
      ],
      "metadata": {
        "id": "pCh17sRCZr5d"
      }
    },
    {
      "cell_type": "markdown",
      "source": [
        "20. How do you handle POST requests in Flask?"
      ],
      "metadata": {
        "id": "1niq5qeXZzzb"
      }
    },
    {
      "cell_type": "markdown",
      "source": [
        "* To handle POST requests in Flask, you define a route that accepts the POST method and use Flask’s request object to access the data sent by the client—usually form data or JSON.\n",
        "\n",
        "| Step              | Code Example                              |\n",
        "| ----------------- | ----------------------------------------- |\n",
        "| Define POST route | `@app.route('/submit', methods=['POST'])` |\n",
        "| Access JSON data  | `request.get_json()`                      |\n",
        "| Access form data  | `request.form.get('field')`               |\n",
        "| Return response   | `return jsonify(...), 200`                |\n"
      ],
      "metadata": {
        "id": "N4FUZlzRZ6EM"
      }
    },
    {
      "cell_type": "markdown",
      "source": [
        "21. How would you secure a Flask API?"
      ],
      "metadata": {
        "id": "HHujzJr1aAVY"
      }
    },
    {
      "cell_type": "markdown",
      "source": [
        "* Securing a Flask API involves multiple layers of protection to ensure that only authorized clients can access your endpoints and that data is transmitted safely.\n",
        "\n",
        "| Security Aspect    | What to Do                                   |\n",
        "| ------------------ | -------------------------------------------- |\n",
        "| Transport Security | Use HTTPS                                    |\n",
        "| Authentication     | JWT, API keys, OAuth 2.0                     |\n",
        "| Authorization      | Role-based access control                    |\n",
        "| Input Validation   | Validate and sanitize inputs                 |\n",
        "| Rate Limiting      | Prevent DoS attacks                          |\n",
        "| Secure Headers     | Set security-related HTTP headers            |\n",
        "| Error Handling     | Hide sensitive info, use proper status codes |\n",
        "| Dependency Updates | Keep libraries and Flask up-to-date          |\n"
      ],
      "metadata": {
        "id": "4T3K4uziaG3i"
      }
    },
    {
      "cell_type": "markdown",
      "source": [
        "22. What is the significance of the Flask-RESTful extension?"
      ],
      "metadata": {
        "id": "QrL8HeTkaPSN"
      }
    },
    {
      "cell_type": "markdown",
      "source": [
        "* The Flask-RESTful extension is a popular Flask add-on that simplifies building RESTful APIs by providing tools and abstractions tailored for API development.\n",
        "\n",
        "| Feature                   | Benefit                                        |\n",
        "| ------------------------- | ---------------------------------------------- |\n",
        "| Resource-based routing    | Organizes API endpoints cleanly                |\n",
        "| Request parsing           | Validates and extracts parameters effortlessly |\n",
        "| Automatic JSON output     | Simplifies response formatting                 |\n",
        "| Consistent error handling | Provides standard API error messages           |\n",
        "| Scalable for large APIs   | Supports namespaces and modular design         |\n"
      ],
      "metadata": {
        "id": "BJFxO5fJaX8g"
      }
    },
    {
      "cell_type": "markdown",
      "source": [
        "23. What is the role of Flask’s session object?"
      ],
      "metadata": {
        "id": "sFH_bFgeafm3"
      }
    },
    {
      "cell_type": "markdown",
      "source": [
        "* Flask’s session object is used to store data specific to a user’s session between requests. It allows you to keep user-specific information (like login status, preferences, or temporary data) across multiple HTTP requests without requiring a database on every request.\n",
        "\n",
        "| Feature                 | Description                                       |\n",
        "| ----------------------- | ------------------------------------------------- |\n",
        "| **Purpose**             | Store user-specific data across requests          |\n",
        "| **Storage**             | Stored in **signed cookies** by default           |\n",
        "| **Usage**               | Acts like a dictionary (`session['key'] = value`) |\n",
        "| **Requires Secret Key** | Needed to cryptographically sign session cookies  |\n"
      ],
      "metadata": {
        "id": "1ZyXSfQqalHy"
      }
    },
    {
      "cell_type": "markdown",
      "source": [
        "# practical Question"
      ],
      "metadata": {
        "id": "bSZvqo2Sa3cv"
      }
    },
    {
      "cell_type": "markdown",
      "source": [
        "1. How do you create a basic Flask application?"
      ],
      "metadata": {
        "id": "H9JJKuh6a7AI"
      }
    },
    {
      "cell_type": "code",
      "source": [
        "pip install flask\n"
      ],
      "metadata": {
        "colab": {
          "base_uri": "https://localhost:8080/"
        },
        "id": "nYSyVKsya9BD",
        "outputId": "5e51868e-9eb3-4f3b-96bb-a762c50fa49a"
      },
      "execution_count": 2,
      "outputs": [
        {
          "output_type": "stream",
          "name": "stdout",
          "text": [
            "Requirement already satisfied: flask in /usr/local/lib/python3.11/dist-packages (3.1.1)\n",
            "Requirement already satisfied: blinker>=1.9.0 in /usr/local/lib/python3.11/dist-packages (from flask) (1.9.0)\n",
            "Requirement already satisfied: click>=8.1.3 in /usr/local/lib/python3.11/dist-packages (from flask) (8.2.1)\n",
            "Requirement already satisfied: itsdangerous>=2.2.0 in /usr/local/lib/python3.11/dist-packages (from flask) (2.2.0)\n",
            "Requirement already satisfied: jinja2>=3.1.2 in /usr/local/lib/python3.11/dist-packages (from flask) (3.1.6)\n",
            "Requirement already satisfied: markupsafe>=2.1.1 in /usr/local/lib/python3.11/dist-packages (from flask) (3.0.2)\n",
            "Requirement already satisfied: werkzeug>=3.1.0 in /usr/local/lib/python3.11/dist-packages (from flask) (3.1.3)\n"
          ]
        }
      ]
    },
    {
      "cell_type": "code",
      "source": [
        "from flask import Flask\n",
        "\n",
        "app = Flask(__name__)  # Initialize the Flask app\n",
        "\n",
        "@app.route('/')        # Define route for home page\n",
        "def home():\n",
        "    return \"Hello, Flask!\"  # Return a simple message\n",
        "\n",
        "if __name__ == '__main__':\n",
        "    app.run(debug=True)  # Run the app in debug mode\n"
      ],
      "metadata": {
        "colab": {
          "base_uri": "https://localhost:8080/"
        },
        "id": "kYhLMLvedvQG",
        "outputId": "c3e14d86-7dc3-4a40-dd10-28a6cd03b76e"
      },
      "execution_count": 8,
      "outputs": [
        {
          "output_type": "stream",
          "name": "stdout",
          "text": [
            " * Serving Flask app '__main__'\n",
            " * Debug mode: on\n"
          ]
        },
        {
          "output_type": "stream",
          "name": "stderr",
          "text": [
            "INFO:werkzeug:\u001b[31m\u001b[1mWARNING: This is a development server. Do not use it in a production deployment. Use a production WSGI server instead.\u001b[0m\n",
            " * Running on http://127.0.0.1:5000\n",
            "INFO:werkzeug:\u001b[33mPress CTRL+C to quit\u001b[0m\n",
            "INFO:werkzeug: * Restarting with stat\n"
          ]
        }
      ]
    },
    {
      "cell_type": "markdown",
      "source": [
        "2. How do you serve static files like images or CSS in Flask?"
      ],
      "metadata": {
        "id": "r2ABQc4keHgT"
      }
    },
    {
      "cell_type": "code",
      "source": [
        "<link rel=\"stylesheet\" href=\"{{ url_for('static', filename='style.css') }}\">\n",
        "<img src=\"{{ url_for('static', filename='logo.png') }}\" alt=\"Logo\">\n"
      ],
      "metadata": {
        "colab": {
          "base_uri": "https://localhost:8080/",
          "height": 106
        },
        "id": "O_kel2ZbeMKS",
        "outputId": "dbcfceb2-d578-4ed3-e7c5-2b25d9f8c3cd"
      },
      "execution_count": 9,
      "outputs": [
        {
          "output_type": "error",
          "ename": "SyntaxError",
          "evalue": "invalid syntax (ipython-input-3746080289.py, line 1)",
          "traceback": [
            "\u001b[0;36m  File \u001b[0;32m\"/tmp/ipython-input-3746080289.py\"\u001b[0;36m, line \u001b[0;32m1\u001b[0m\n\u001b[0;31m    <link rel=\"stylesheet\" href=\"{{ url_for('static', filename='style.css') }}\">\u001b[0m\n\u001b[0m    ^\u001b[0m\n\u001b[0;31mSyntaxError\u001b[0m\u001b[0;31m:\u001b[0m invalid syntax\n"
          ]
        }
      ]
    },
    {
      "cell_type": "code",
      "source": [
        "from flask import Flask, render_template\n",
        "\n",
        "app = Flask(__name__)\n",
        "\n",
        "@app.route('/')\n",
        "def home():\n",
        "    return render_template('index.html')\n"
      ],
      "metadata": {
        "id": "aqDZKC0VeRMf"
      },
      "execution_count": 10,
      "outputs": []
    },
    {
      "cell_type": "markdown",
      "source": [
        "3. How do you define different routes with different HTTP methods in Flask?"
      ],
      "metadata": {
        "id": "SWLH01iseYfT"
      }
    },
    {
      "cell_type": "code",
      "source": [
        "from flask import Flask, request, jsonify\n",
        "\n",
        "app = Flask(__name__)\n",
        "\n",
        "@app.route('/item', methods=['GET', 'POST'])\n",
        "def item():\n",
        "    if request.method == 'GET':\n",
        "        # Handle GET request\n",
        "        return jsonify(message=\"This is a GET request\")\n",
        "    elif request.method == 'POST':\n",
        "        # Handle POST request\n",
        "        data = request.get_json()\n",
        "        return jsonify(message=\"Received POST request\", data=data)\n"
      ],
      "metadata": {
        "id": "koHFH4EReZ4V"
      },
      "execution_count": 11,
      "outputs": []
    },
    {
      "cell_type": "markdown",
      "source": [
        "4. How do you render HTML templates in Flask?"
      ],
      "metadata": {
        "id": "BBEAv-RkeijD"
      }
    },
    {
      "cell_type": "code",
      "source": [
        "from flask import Flask, render_template\n",
        "\n",
        "app = Flask(__name__)\n",
        "\n",
        "@app.route('/')\n",
        "def home():\n",
        "    return render_template('index.html', name='Alice')\n"
      ],
      "metadata": {
        "id": "-0-0NVllekhK"
      },
      "execution_count": 12,
      "outputs": []
    },
    {
      "cell_type": "markdown",
      "source": [
        "5. How can you generate URLs for routes in Flask using url_for?"
      ],
      "metadata": {
        "id": "GwCO6XrGetA-"
      }
    },
    {
      "cell_type": "code",
      "source": [
        "from flask import Flask, url_for\n",
        "\n",
        "app = Flask(__name__)\n",
        "\n",
        "@app.route('/')\n",
        "def home():\n",
        "    return 'Home Page'\n",
        "\n",
        "@app.route('/user/<username>')\n",
        "def profile(username):\n",
        "    return f\"User: {username}\"\n",
        "\n",
        "@app.route('/links')\n",
        "def links():\n",
        "    home_url = url_for('home')\n",
        "    profile_url = url_for('profile', username='alice')\n",
        "    return f'<a href=\"{home_url}\">Home</a><br><a href=\"{profile_url}\">Alice\\'s Profile</a>'\n"
      ],
      "metadata": {
        "id": "tdTDtEAFey1A"
      },
      "execution_count": 13,
      "outputs": []
    },
    {
      "cell_type": "markdown",
      "source": [
        "6.  How do you handle forms in Flask?"
      ],
      "metadata": {
        "id": "5I6a4PMje2gY"
      }
    },
    {
      "cell_type": "code",
      "metadata": {
        "id": "273c1365"
      },
      "source": [
        "from flask import Flask, render_template, request\n",
        "\n",
        "app = Flask(__name__)\n",
        "\n",
        "# Create a simple HTML template file named 'form.html'\n",
        "# In a real project, you would save this in a 'templates' folder.\n",
        "# For this example, we'll create the content as a string.\n",
        "form_template = \"\"\"\n",
        "<!DOCTYPE html>\n",
        "<html>\n",
        "<body>\n",
        "  <form method=\"POST\" action=\"/submit\">\n",
        "    Name: <input type=\"text\" name=\"name\" />\n",
        "    <input type=\"submit\" value=\"Submit\" />\n",
        "  </form>\n",
        "</body>\n",
        "</html>\n",
        "\"\"\"\n",
        "\n",
        "# Define the route to display the form (GET request)\n",
        "# and handle the form submission (POST request)\n",
        "@app.route('/submit', methods=['GET', 'POST'])\n",
        "def handle_form():\n",
        "    if request.method == 'POST':\n",
        "        # Get the data from the submitted form\n",
        "        name = request.form.get('name')\n",
        "        if name:\n",
        "            return f\"Hello, {name}!\"\n",
        "        else:\n",
        "            return \"Please enter your name.\"\n",
        "    # For GET requests, render the form\n",
        "    # In a real app, you'd load 'form.html' from the templates folder\n",
        "    # return render_template('form.html')\n",
        "    # For this example, we'll just return the template string\n",
        "    return form_template\n",
        "\n",
        "# To run this in Colab, you'll need to use something like ngrok\n",
        "# to expose your local Flask server to the internet.\n",
        "# Or, you can run this code in a local Python environment.\n",
        "# For demonstration purposes, you can uncomment the line below\n",
        "# and run this cell, then try accessing the '/submit' route.\n",
        "# if __name__ == '__main__':\n",
        "#     app.run(debug=True)"
      ],
      "execution_count": 16,
      "outputs": []
    },
    {
      "cell_type": "markdown",
      "source": [
        "7. How can you validate form data in Flask?"
      ],
      "metadata": {
        "id": "BUeLUs5VfX0q"
      }
    },
    {
      "cell_type": "code",
      "source": [
        "from flask import Flask, request, render_template, flash, redirect, url_for\n",
        "\n",
        "app = Flask(__name__)\n",
        "app.secret_key = 'your_secret_key'  # Needed for flashing messages\n",
        "\n",
        "@app.route('/form')\n",
        "def form():\n",
        "    return render_template('form.html')\n",
        "\n",
        "@app.route('/submit', methods=['POST'])\n",
        "def submit():\n",
        "    name = request.form.get('name')\n",
        "    if not name or len(name) < 3:\n",
        "        flash(\"Name is required and should be at least 3 characters.\")\n",
        "        return redirect(url_for('form'))\n",
        "    return f\"Hello, {name}!\"\n"
      ],
      "metadata": {
        "id": "7QF0Mr0Ffdzb"
      },
      "execution_count": 17,
      "outputs": []
    },
    {
      "cell_type": "markdown",
      "source": [
        "8. How do you manage sessions in Flask?"
      ],
      "metadata": {
        "id": "zv4VXdU_fpnK"
      }
    },
    {
      "cell_type": "code",
      "source": [
        "app = Flask(__name__)\n",
        "app.secret_key = 'your-secret-key'  # Change this to a secure random value\n"
      ],
      "metadata": {
        "id": "WrKoYMmefrYi"
      },
      "execution_count": 18,
      "outputs": []
    },
    {
      "cell_type": "code",
      "source": [
        "from flask import Flask, session, redirect, url_for, request\n",
        "\n",
        "app = Flask(__name__)\n",
        "app.secret_key = 'your-secret-key'\n",
        "\n",
        "@app.route('/login', methods=['POST'])\n",
        "def login():\n",
        "    username = request.form['username']\n",
        "    # Suppose authentication succeeds\n",
        "    session['username'] = username  # Save username in session\n",
        "    return redirect(url_for('profile'))\n",
        "\n",
        "@app.route('/profile')\n",
        "def profile():\n",
        "    if 'username' in session:\n",
        "        return f\"Logged in as {session['username']}\"\n",
        "    else:\n",
        "        return \"You are not logged in.\"\n"
      ],
      "metadata": {
        "id": "8iH9bg7xfxHQ"
      },
      "execution_count": 19,
      "outputs": []
    },
    {
      "cell_type": "code",
      "source": [
        "@app.route('/logout')\n",
        "def logout():\n",
        "    session.pop('username', None)  # Remove 'username' from session if exists\n",
        "    return \"Logged out\"\n"
      ],
      "metadata": {
        "id": "ERsKsEL4fzlh"
      },
      "execution_count": 20,
      "outputs": []
    },
    {
      "cell_type": "markdown",
      "source": [
        "9. How do you redirect to a different route in Flask?"
      ],
      "metadata": {
        "id": "rQx_9Hwxf7l0"
      }
    },
    {
      "cell_type": "code",
      "source": [
        "from flask import Flask, redirect, url_for\n",
        "\n",
        "app = Flask(__name__)\n",
        "\n",
        "@app.route('/')\n",
        "def home():\n",
        "    return \"This is the home page.\"\n",
        "\n",
        "@app.route('/go-to-home')\n",
        "def go_to_home():\n",
        "    return redirect(url_for('home'))  # Redirect to the 'home' route\n"
      ],
      "metadata": {
        "id": "Xu-rN5KZf-ak"
      },
      "execution_count": 21,
      "outputs": []
    },
    {
      "cell_type": "markdown",
      "source": [
        "10. How do you handle errors in Flask (e.g., 404)?"
      ],
      "metadata": {
        "id": "rUey2CEwgCNu"
      }
    },
    {
      "cell_type": "code",
      "source": [
        "from flask import Flask, render_template\n",
        "\n",
        "app = Flask(__name__)\n",
        "\n",
        "@app.errorhandler(404)\n",
        "def page_not_found(e):\n",
        "    return render_template('404.html'), 404\n"
      ],
      "metadata": {
        "id": "5Ek0rPEdgIYx"
      },
      "execution_count": 22,
      "outputs": []
    },
    {
      "cell_type": "code",
      "source": [
        "@app.errorhandler(500)\n",
        "def internal_error(e):\n",
        "    return \"An internal error occurred.\", 500\n"
      ],
      "metadata": {
        "id": "aLZKq_Tigiu8"
      },
      "execution_count": 24,
      "outputs": []
    },
    {
      "cell_type": "markdown",
      "source": [
        "11. How do you structure a Flask app using Blueprints?"
      ],
      "metadata": {
        "id": "FjSECnsDgkOm"
      }
    },
    {
      "cell_type": "code",
      "metadata": {
        "colab": {
          "base_uri": "https://localhost:8080/"
        },
        "id": "b26d98a2",
        "outputId": "d51479ad-f482-4500-a030-b9c09152d11c"
      },
      "source": [
        "# Create a dummy routes.py file for demonstration\n",
        "%%writefile routes.py\n",
        "from flask import Blueprint\n",
        "\n",
        "blog_bp = Blueprint('blog', __name__, template_folder='templates')\n",
        "\n",
        "@blog_bp.route('/')\n",
        "def index():\n",
        "    return \"This is the blog index from the blueprint.\"\n",
        "\n",
        "@blog_bp.route('/<int:post_id>')\n",
        "def post(post_id):\n",
        "    return f\"This is blog post {post_id} from the blueprint.\""
      ],
      "execution_count": 26,
      "outputs": [
        {
          "output_type": "stream",
          "name": "stdout",
          "text": [
            "Writing routes.py\n"
          ]
        }
      ]
    },
    {
      "cell_type": "code",
      "metadata": {
        "id": "1545f896"
      },
      "source": [
        "from flask import Flask\n",
        "from routes import blog_bp # Use absolute import\n",
        "\n",
        "app = Flask(__name__)\n",
        "app.register_blueprint(blog_bp, url_prefix='/blog')\n",
        "\n",
        "# Add a simple home route for the main app\n",
        "@app.route('/')\n",
        "def home():\n",
        "    return \"Main App Home Page\"\n",
        "\n",
        "\n",
        "# To run this app, you would typically do:\n",
        "# if __name__ == '__main__':\n",
        "#     app.run(debug=True)\n",
        "\n",
        "# In Colab, you might need to use ngrok or similar to access it.\n",
        "# For demonstration, you can manually test the routes after running this cell."
      ],
      "execution_count": 27,
      "outputs": []
    },
    {
      "cell_type": "markdown",
      "source": [
        "12.  How do you define a custom Jinja filter in Flask?"
      ],
      "metadata": {
        "id": "ui-22p0bhBIS"
      }
    },
    {
      "cell_type": "code",
      "source": [
        "def reverse_string(s):\n",
        "    return s[::-1]\n"
      ],
      "metadata": {
        "id": "YbgELh-shh7E"
      },
      "execution_count": 35,
      "outputs": []
    },
    {
      "cell_type": "code",
      "source": [
        "from flask import Flask\n",
        "\n",
        "app = Flask(__name__)\n",
        "\n",
        "@app.template_filter('reverse')\n",
        "def reverse_string(s):\n",
        "    return s[::-1]\n",
        "    app.jinja_env.filters['reverse'] = reverse_string\n",
        "    {{ \"hello\" | reverse }}\n",
        "\n",
        "\n"
      ],
      "metadata": {
        "id": "OEwI7Z__mxdN"
      },
      "execution_count": 38,
      "outputs": []
    },
    {
      "cell_type": "markdown",
      "source": [
        "13. How can you redirect with query parameters in Flask?"
      ],
      "metadata": {
        "id": "xemMA9sdm_-d"
      }
    },
    {
      "cell_type": "code",
      "source": [
        "from flask import Flask, request, redirect, url_for\n",
        "\n",
        "app = Flask(__name__)\n",
        "\n",
        "@app.route('/greet')\n",
        "def greet():\n",
        "    name = request.args.get('name', 'Guest')\n",
        "    return f\"Hello, {name}!\"\n"
      ],
      "metadata": {
        "id": "-fF18jJpnBtm"
      },
      "execution_count": 39,
      "outputs": []
    },
    {
      "cell_type": "code",
      "source": [
        "@app.route('/redirect-example')\n",
        "def redirect_example():\n",
        "    return redirect(url_for('greet', name='Alice'))\n"
      ],
      "metadata": {
        "id": "w-w58fs7nJL1"
      },
      "execution_count": 40,
      "outputs": []
    },
    {
      "cell_type": "markdown",
      "source": [
        "14. M How do you return JSON responses in Flask?"
      ],
      "metadata": {
        "id": "6atSVBqcnXpN"
      }
    },
    {
      "cell_type": "code",
      "source": [
        "from flask import Flask, jsonify\n",
        "\n",
        "app = Flask(__name__)\n",
        "\n",
        "@app.route('/api/data')\n",
        "def get_data():\n",
        "    data = {\n",
        "        'name': 'Alice',\n",
        "        'age': 30,\n",
        "        'location': 'Wonderland'\n",
        "    }\n",
        "    return jsonify(data)\n",
        "{\n",
        "  \"name\": \"Alice\",\n",
        "  \"age\": 30,\n",
        "  \"location\": \"Wonderland\"\n",
        "}\n"
      ],
      "metadata": {
        "colab": {
          "base_uri": "https://localhost:8080/"
        },
        "id": "gyvGv3FTnZ9_",
        "outputId": "8b5b20ea-8d9d-4e82-fb55-725ce6102ac1"
      },
      "execution_count": 41,
      "outputs": [
        {
          "output_type": "execute_result",
          "data": {
            "text/plain": [
              "{'name': 'Alice', 'age': 30, 'location': 'Wonderland'}"
            ]
          },
          "metadata": {},
          "execution_count": 41
        }
      ]
    },
    {
      "cell_type": "markdown",
      "source": [
        "15. How do you capture URL parameters in Flask?"
      ],
      "metadata": {
        "id": "L-cSm6HDngUp"
      }
    },
    {
      "cell_type": "code",
      "source": [
        "from flask import Flask\n",
        "\n",
        "app = Flask(__name__)\n",
        "\n",
        "@app.route('/user/<username>')\n",
        "def show_user(username):\n",
        "    return f\"Hello, {username}!\"\n",
        "@app.route('/post/<int:post_id>')\n",
        "def show_post(post_id):\n",
        "    return f\"Post ID: {post_id}\"\n"
      ],
      "metadata": {
        "id": "qBNIXKQInnSK"
      },
      "execution_count": 42,
      "outputs": []
    }
  ]
}